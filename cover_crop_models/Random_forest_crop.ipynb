{
 "cells": [
  {
   "cell_type": "code",
   "execution_count": 6,
   "id": "e00d1671",
   "metadata": {
    "scrolled": true
   },
   "outputs": [],
   "source": [
    "import pandas as pd\n",
    "import numpy as np\n",
    "from sklearn.model_selection import train_test_split\n",
    "from sklearn.ensemble import RandomForestClassifier\n",
    "from sklearn.model_selection import RandomizedSearchCV\n",
    "from sklearn.model_selection import cross_val_score\n",
    "from sklearn.metrics import accuracy_score, f1_score, recall_score, precision_score\n",
    "from sklearn.preprocessing import LabelEncoder\n",
    "from sklearn.metrics import confusion_matrix, ConfusionMatrixDisplay\n",
    "import matplotlib.pyplot as plt\n",
    "from imblearn.over_sampling import SMOTE\n",
    "from sklearn.model_selection import GridSearchCV"
   ]
  },
  {
   "cell_type": "code",
   "execution_count": 7,
   "id": "ad898d3e",
   "metadata": {
    "scrolled": true
   },
   "outputs": [
    {
     "name": "stdout",
     "output_type": "stream",
     "text": [
      "         id    year   NDVI_08   NDVI_09   NDVI_10   NDVI_11   NDVI_12  \\\n",
      "0       1.0  2019.0  0.191540  0.181471  0.159935  0.374889  0.873755   \n",
      "1       1.0  2020.0  0.203258  0.135215  0.129017  0.304074  0.709940   \n",
      "2       1.0  2021.0  0.169163  0.139298  0.176505  0.324717  0.785839   \n",
      "3       1.0  2022.0  0.122308  0.117480  0.127501  0.161553  0.620289   \n",
      "4       2.0  2019.0  0.189737  0.194818  0.171174  0.490688  0.904467   \n",
      "...     ...     ...       ...       ...       ...       ...       ...   \n",
      "3195  799.0  2022.0  0.123714  0.117433  0.117978  0.434029  0.555517   \n",
      "3196  800.0  2019.0  0.202469  0.194453  0.197959  0.619619  0.863051   \n",
      "3197  800.0  2020.0  0.177476  0.176527  0.168000  0.424272  0.780884   \n",
      "3198  800.0  2021.0  0.160505  0.145747  0.200651  0.810300  0.040291   \n",
      "3199  800.0  2022.0  0.126200  0.122546  0.118038  0.433724  0.605364   \n",
      "\n",
      "       NDVI_01   NDVI_02   NDVI_03   NDVI_04   NDVI_05   NDVI_06   NDVI_07  \\\n",
      "0     0.890306  0.427724  0.265450  0.845153  0.865171  0.755601  0.306002   \n",
      "1     0.922530  0.817577  0.176288  0.802700  0.849490  0.791971  0.347540   \n",
      "2     0.918531  0.141107  0.163198  0.579804  0.538864  0.433475  0.174370   \n",
      "3     0.698762  0.605185  0.136963  0.473109  0.550160  0.498302  0.245008   \n",
      "4     0.745271  0.196419  0.791590  0.884426  0.850453  0.389992  0.187597   \n",
      "...        ...       ...       ...       ...       ...       ...       ...   \n",
      "3195  0.503495  0.112680  0.569808  0.572772  0.424714  0.166665  0.154555   \n",
      "3196  0.865215  0.220508  0.282897  0.767842  0.744361  0.265037  0.195926   \n",
      "3197  0.845841  0.171711  0.860663  0.827337  0.694183  0.267439  0.182303   \n",
      "3198  0.683925  0.036784  0.508792  0.535255  0.218388  0.137198  0.132025   \n",
      "3199  0.420523  0.138186  0.532169  0.563805  0.330915  0.140217  0.138801   \n",
      "\n",
      "     Cover_crop  \n",
      "0        double  \n",
      "1        double  \n",
      "2        double  \n",
      "3        double  \n",
      "4        double  \n",
      "...         ...  \n",
      "3195     double  \n",
      "3196     double  \n",
      "3197     double  \n",
      "3198     double  \n",
      "3199     double  \n",
      "\n",
      "[3200 rows x 15 columns]\n"
     ]
    }
   ],
   "source": [
    "# Read the CSV file \n",
    "df = pd.read_csv('NDVI.csv')\n",
    "\n",
    "# Print the DataFrame\n",
    "print(df)"
   ]
  },
  {
   "cell_type": "code",
   "execution_count": 8,
   "id": "8b4b4b63",
   "metadata": {},
   "outputs": [
    {
     "name": "stdout",
     "output_type": "stream",
     "text": [
      "Unique classes in the 'Cover_crop' variable:\n",
      "double\n",
      "single\n",
      "cover\n"
     ]
    }
   ],
   "source": [
    "df['Cover_crop'].replace('double_cover', 'double', inplace=True)\n",
    "unique_classes = df['Cover_crop'].unique()\n",
    "\n",
    "print(\"Unique classes in the 'Cover_crop' variable:\")\n",
    "for cls in unique_classes:\n",
    "    print(cls)"
   ]
  },
  {
   "cell_type": "code",
   "execution_count": 9,
   "id": "3d307766",
   "metadata": {},
   "outputs": [
    {
     "name": "stdout",
     "output_type": "stream",
     "text": [
      "Before applying SMOTE:\n",
      "Class distribution in train_y:\n",
      "Cover_crop\n",
      "double    1849\n",
      "cover      323\n",
      "single      68\n",
      "Name: count, dtype: int64\n",
      "\n",
      "After applying SMOTE:\n",
      "Class distribution in train_y_resampled:\n",
      "1    1849\n",
      "0    1849\n",
      "2    1849\n",
      "Name: count, dtype: int64\n"
     ]
    }
   ],
   "source": [
    "# Separate features (X) and target (y)\n",
    "X = df.drop(columns=['Cover_crop'])\n",
    "y = df['Cover_crop']\n",
    "\n",
    "# Split data into training and test sets\n",
    "train_X, test_X, train_y, test_y = train_test_split(X, y, test_size=0.3, random_state=42)\n",
    "\n",
    "# Initialize the label encoder\n",
    "label_encoder = LabelEncoder()\n",
    "\n",
    "# Fit and transform the target variable\n",
    "train_y_encoded = label_encoder.fit_transform(train_y)\n",
    "test_y_encoded = label_encoder.transform(test_y)\n",
    "\n",
    "# Check class imbalance before applying SMOTE\n",
    "print(\"Before applying SMOTE:\")\n",
    "print(\"Class distribution in train_y:\")\n",
    "print(train_y.value_counts())\n",
    "\n",
    "# Initialize SMOTE\n",
    "smote = SMOTE(random_state=42)\n",
    "\n",
    "# Apply SMOTE to the training data\n",
    "train_X_resampled, train_y_resampled = smote.fit_resample(train_X, train_y_encoded)\n",
    "\n",
    "# Check class distribution after applying SMOTE\n",
    "print(\"\\nAfter applying SMOTE:\")\n",
    "print(\"Class distribution in train_y_resampled:\")\n",
    "print(pd.Series(train_y_resampled).value_counts())"
   ]
  },
  {
   "cell_type": "code",
   "execution_count": 10,
   "id": "fe9bc0f7",
   "metadata": {
    "scrolled": true
   },
   "outputs": [],
   "source": [
    "# Initialize the model\n",
    "rf_model = RandomForestClassifier()\n",
    "\n",
    "# Fit the model to the training data\n",
    "rf_model.fit(train_X_resampled, train_y_resampled)\n",
    "\n",
    "# Define hyperparameter grid\n",
    "param_grid = {\n",
    "    'n_estimators': [100, 200, 300, 400, 500],\n",
    "    'max_depth': [None, 10, 20, 30, 40, 50],\n",
    "    'min_samples_split': [2, 5, 10],\n",
    "    'min_samples_leaf': [1, 2, 4]\n",
    "}\n",
    "\n",
    "# Grid search\n",
    "rf_grid = GridSearchCV(estimator=rf_model, param_grid=param_grid, cv=10, n_jobs=-1)\n",
    "rf_grid.fit(train_X_resampled, train_y_resampled)\n",
    "\n",
    "# Get best hyperparameters\n",
    "best_params = rf_grid.best_params_\n",
    "\n",
    "# Evaluate model using cross-validation\n",
    "cv_scores = cross_val_score(rf_model, train_X_resampled, train_y_resampled, cv=10, scoring='accuracy')\n",
    "mean_cv_accuracy = cv_scores.mean()"
   ]
  },
  {
   "cell_type": "code",
   "execution_count": 11,
   "id": "ff702fc8",
   "metadata": {},
   "outputs": [
    {
     "name": "stdout",
     "output_type": "stream",
     "text": [
      "Accuracy: 0.8688\n",
      "F1 Score: 0.8689\n",
      "Recall: 0.8688\n",
      "Precision: 0.8691\n",
      "{'max_depth': 30, 'min_samples_leaf': 1, 'min_samples_split': 2, 'n_estimators': 500}\n"
     ]
    }
   ],
   "source": [
    "# Predictions on test set\n",
    "test_preds = rf_model.predict(test_X)\n",
    "\n",
    "# Calculate metrics\n",
    "accuracy = accuracy_score(test_y_encoded, test_preds)\n",
    "f1 = f1_score(test_y_encoded, test_preds, average='weighted')\n",
    "recall = recall_score(test_y_encoded, test_preds, average='weighted')\n",
    "precision = precision_score(test_y_encoded, test_preds, average='weighted')\n",
    "\n",
    "print(f\"Accuracy: {accuracy:.4f}\")\n",
    "print(f\"F1 Score: {f1:.4f}\")\n",
    "print(f\"Recall: {recall:.4f}\")\n",
    "print(f\"Precision: {precision:.4f}\")\n",
    "print(best_params)"
   ]
  },
  {
   "cell_type": "code",
   "execution_count": 12,
   "id": "cda56d03",
   "metadata": {},
   "outputs": [
    {
     "name": "stdout",
     "output_type": "stream",
     "text": [
      "Default labels\n",
      "\n",
      "Class Labels:\n",
      "0\n",
      "1\n",
      "2\n"
     ]
    },
    {
     "data": {
      "image/png": "[encoded data removed]",
      "text/plain": [
       "<Figure size 640x480 with 2 Axes>"
      ]
     },
     "metadata": {},
     "output_type": "display_data"
    }
   ],
   "source": [
    "print(\"Default labels\")\n",
    "print(\"\")\n",
    "\n",
    "class_labels = rf_model.classes_\n",
    "\n",
    "print(\"Class Labels:\")\n",
    "for label in class_labels:\n",
    "    print(label)\n",
    "\n",
    "cmBasic1 = confusion_matrix(test_y_encoded, test_preds, labels = rf_model.classes_)\n",
    "disp = ConfusionMatrixDisplay(confusion_matrix = cmBasic1)\n",
    "disp.plot()\n",
    "plt.show()\n",
    "\n",
    "# class 0 = cover crop\n",
    "# class 1 = double crop\n",
    "# class 2 = single crop"
   ]
  },
  {
   "cell_type": "code",
   "execution_count": null,
   "id": "b7d08e20",
   "metadata": {},
   "outputs": [],
   "source": []
  }
 ],
 "metadata": {
  "kernelspec": {
   "display_name": "Python 3 (ipykernel)",
   "language": "python",
   "name": "python3"
  },
  "language_info": {
   "codemirror_mode": {
    "name": "ipython",
    "version": 3
   },
   "file_extension": ".py",
   "mimetype": "text/x-python",
   "name": "python",
   "nbconvert_exporter": "python",
   "pygments_lexer": "ipython3",
   "version": "3.11.5"
  }
 },
 "nbformat": 4,
 "nbformat_minor": 5
}
